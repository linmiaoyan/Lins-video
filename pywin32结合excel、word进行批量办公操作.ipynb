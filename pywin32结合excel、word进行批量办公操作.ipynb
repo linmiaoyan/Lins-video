{
 "cells": [
  {
   "cell_type": "markdown",
   "metadata": {},
   "source": [
    "在日常的事务处理中，我们常常会遇到这样的情况：某个活动或者报名需要选择班级中的几名同学，当同学们提交了自己的姓名或学号之后，我们要对所需的信息进一步结合手头上有的数据库进行补全。"
   ]
  },
  {
   "cell_type": "markdown",
   "metadata": {},
   "source": [
    "![title](img/p1.png)\n",
    "\n",
    "<center>将下方的数据补充到上方的报名表中</center>\n",
    "\n",
    "![title](img/p2.png)"
   ]
  },
  {
   "cell_type": "markdown",
   "metadata": {},
   "source": [
    "# 第三方库pywin32 \n",
    "\n",
    "可以结合API对我们的常用软件excel、word等软件进行处理，实现基本的读取写入，通过合理的代码实现，我们就能将平时繁复的人工填表操作交给代码\n",
    "\n",
    "我们可以直接使用pip命令对第三方库进行安装\n",
    "\n",
    "pip install -i pypiwin32\n",
    "\n",
    "如果觉得下载速度较慢，可以使用国内镜像源进行下载，此方法适用于大多数python库\n",
    "\n",
    "pip install -i https://pypi.doubanio.com/simple/ pypiwin32\n",
    "\n"
   ]
  },
  {
   "cell_type": "markdown",
   "metadata": {},
   "source": [
    "# 1.导入第三方库、构建类和函数\n",
    "\n",
    "成功运行下方的代码导入第三方库后，只需要构建相应的类，就可以使用其中的函数。"
   ]
  },
  {
   "cell_type": "code",
   "execution_count": 15,
   "metadata": {},
   "outputs": [],
   "source": [
    "import os\n",
    "import sys\n",
    "import string\n",
    "import operator\n",
    "import win32com.client\n",
    "\n",
    "class easyExcel:\n",
    "    def __init__(self, filename=None):\n",
    "        self.xlApp = win32com.client.Dispatch('Excel.Application')\n",
    "        if filename:\n",
    "            self.filename = filename\n",
    "            self.xlBook = self.xlApp.Workbooks.Open(filename)\n",
    "        else:\n",
    "            self.xlBook = self.xlApp.Workbooks.Add()\n",
    "            self.filename = '' \n",
    "   \n",
    "    def save(self, newfilename=None):\n",
    "        #保存\n",
    "        if newfilename:\n",
    "            self.filename = newfilename\n",
    "            self.xlBook.SaveAs(newfilename)\n",
    "        else:\n",
    "            self.xlBook.Save() \n",
    "    def close(self):\n",
    "        #关闭\n",
    "        self.xlBook.Close(SaveChanges=0)\n",
    "        del self.xlApp\n",
    "       \n",
    "    def getCell(self, sheet, row, col):\n",
    "        #读取\n",
    "        \"Get value of one cell\"\n",
    "        sht = self.xlBook.Worksheets(sheet)\n",
    "        return sht.Cells(row, col).Value\n",
    "    def setCell(self, sheet, row, col, value):\n",
    "        #写入\n",
    "        \"set value of one cell\"\n",
    "        sht = self.xlBook.Worksheets(sheet)\n",
    "        sht.Cells(row, col).Value = value\n",
    "    def getRange(self, sheet, row1, col1, row2, col2):\n",
    "        #范围读取\n",
    "        \"return a 2d array (i.e. tuple of tuples)\"\n",
    "        sht = self.xlBook.Worksheets(sheet)\n",
    "        return sht.Range(sht.Cells(row1, col1), sht.Cells(row2, col2)).Value\n",
    "   \n",
    "    def setRange(self, sheet, leftCol, topRow, data):\n",
    "        #范围插入\n",
    "        \"\"\"insert a 2d array starting at given location.\n",
    "        Works out the size needed for itself\"\"\" \n",
    "        bottomRow = topRow + len(data) - 1\n",
    "        rightCol = leftCol + len(data[0]) - 1\n",
    "        sht = self.xlBook.Worksheets(sheet)\n",
    "        #清空所当前sheet里的有单元格\n",
    "        sht.Cells.Clear()\n",
    "        sht.Range(\n",
    "            sht.Cells(topRow, leftCol),\n",
    "            sht.Cells(bottomRow, rightCol)\n",
    "            ).Value = data\n",
    "        sht.Range(\n",
    "            sht.Cells(topRow, leftCol),\n",
    "            sht.Cells(topRow, rightCol)\n",
    "            ).Font.Bold = True\n",
    "       \n",
    "    def getContiguousRange(self, sheet, row, col):\n",
    "        \"\"\"Tracks down and across from top left cell until it\n",
    "        encounters blank cells; returns the non-blank range.\n",
    "        Looks at first row and column; blanks at bottom or right\n",
    "        are OK and return None witin the array\"\"\"\n",
    "        sht = self.xlBook.Worksheets(sheet)\n",
    "        # find the bottom row\n",
    "        bottom = row\n",
    "        while sht.Cells(bottom + 1, col).Value not in [None, '']:\n",
    "            bottom = bottom + 1\n",
    "        # right column\n",
    "        right = col\n",
    "        while sht.Cells(row, right + 1).Value not in [None, '']:\n",
    "            right = right + 1\n",
    "        #设置第一行若干列为粗体\n",
    "        return sht.Range(sht.Cells(row, col), sht.Cells(bottom, right)).Value"
   ]
  },
  {
   "cell_type": "markdown",
   "metadata": {},
   "source": [
    "# 2.创建对象，使用函数\n",
    "\n",
    "下方代码的含义是：我们将filename路径的excel文件，将该文件创建成一个特定的对象。\n",
    "\n",
    "如何理解类和对象？比如我们有一个名为小狗（easyExcel）的类，那我们就可以创建一个名为哈士奇（excel001）的独一无二的对象，并对其使用相应的函数。\n",
    "\n",
    "excel001 = easyExcel(filename)#创建对象\n",
    "excel001.getCell(\"Sheet1\",i,2)#获取Sheet1中第i行第2列的数据\n",
    "excel001.setCell(\"Sheet1\",x,6,value)#向Sheet1中第x行第6列写入数据value\n",
    "\n",
    "**下面我们演示如何将数据从通讯录中填入到报名表中**"
   ]
  },
  {
   "cell_type": "code",
   "execution_count": 1,
   "metadata": {},
   "outputs": [
    {
     "ename": "NameError",
     "evalue": "name 'easyExcel' is not defined",
     "output_type": "error",
     "traceback": [
      "\u001b[1;31m---------------------------------------------------------------------------\u001b[0m",
      "\u001b[1;31mNameError\u001b[0m                                 Traceback (most recent call last)",
      "\u001b[1;32m<ipython-input-1-046bb763a96a>\u001b[0m in \u001b[0;36m<module>\u001b[1;34m\u001b[0m\n\u001b[0;32m      2\u001b[0m \u001b[0mfilename2\u001b[0m \u001b[1;33m=\u001b[0m \u001b[1;34mr\"E:\\应用\\python\\jupyter\\通讯录.xls\"\u001b[0m\u001b[1;33m\u001b[0m\u001b[0m\n\u001b[0;32m      3\u001b[0m \u001b[1;33m\u001b[0m\u001b[0m\n\u001b[1;32m----> 4\u001b[1;33m \u001b[0mexcel1\u001b[0m \u001b[1;33m=\u001b[0m \u001b[0measyExcel\u001b[0m\u001b[1;33m(\u001b[0m\u001b[0mfilename1\u001b[0m\u001b[1;33m)\u001b[0m\u001b[1;33m\u001b[0m\u001b[0m\n\u001b[0m\u001b[0;32m      5\u001b[0m \u001b[0mexcel2\u001b[0m \u001b[1;33m=\u001b[0m \u001b[0measyExcel\u001b[0m\u001b[1;33m(\u001b[0m\u001b[0mfilename2\u001b[0m\u001b[1;33m)\u001b[0m\u001b[1;33m\u001b[0m\u001b[0m\n\u001b[0;32m      6\u001b[0m \u001b[1;32mfor\u001b[0m \u001b[0mi\u001b[0m \u001b[1;32min\u001b[0m \u001b[0mrange\u001b[0m \u001b[1;33m(\u001b[0m\u001b[1;36m2\u001b[0m\u001b[1;33m,\u001b[0m\u001b[1;36m10\u001b[0m\u001b[1;33m)\u001b[0m\u001b[1;33m:\u001b[0m\u001b[1;33m\u001b[0m\u001b[0m\n",
      "\u001b[1;31mNameError\u001b[0m: name 'easyExcel' is not defined"
     ]
    }
   ],
   "source": [
    "filename1 = r\"E:\\应用\\python\\jupyter\\报名表.xlsx\"\n",
    "filename2 = r\"E:\\应用\\python\\jupyter\\通讯录.xls\"\n",
    "\n",
    "excel1 = easyExcel(filename1)\n",
    "excel2 = easyExcel(filename2)\n",
    "for i in range (2,10):\n",
    "    temp1=excel1.getCell(\"Sheet1\",i,1)#读取需要收集信息的学生序号\n",
    "    for x in range (2,42):\n",
    "        temp2=excel2.getCell(\"Sheet1\",x,1)#寻找通讯录中的相应位置\n",
    "        if temp1==temp2:\n",
    "            print(\"匹配成功\")\n",
    "            excel1.setCell(\"Sheet1\",i,2,excel2.getCell(\"Sheet1\",x,2))#将值设置为excel1.getCell(\"Sheet1\",x,2)\n",
    "            excel1.setCell(\"Sheet1\",i,3,excel2.getCell(\"Sheet1\",x,4))\n",
    "            break\n",
    "\n",
    "excel2.save(filename1)\n",
    "excel1.close()#将已经打开的进程关闭\n",
    "\n"
   ]
  },
  {
   "cell_type": "markdown",
   "metadata": {},
   "source": [
    "![title](img/p3.png)"
   ]
  },
  {
   "cell_type": "code",
   "execution_count": 2,
   "metadata": {},
   "outputs": [
    {
     "ename": "NameError",
     "evalue": "name 'easyExcel' is not defined",
     "output_type": "error",
     "traceback": [
      "\u001b[1;31m---------------------------------------------------------------------------\u001b[0m",
      "\u001b[1;31mNameError\u001b[0m                                 Traceback (most recent call last)",
      "\u001b[1;32m<ipython-input-2-a7092ae14050>\u001b[0m in \u001b[0;36m<module>\u001b[1;34m\u001b[0m\n\u001b[0;32m      2\u001b[0m \u001b[0mfilename1\u001b[0m \u001b[1;33m=\u001b[0m \u001b[1;34mr\"E:\\应用\\python\\jupyter\\通讯录.xls\"\u001b[0m\u001b[1;33m\u001b[0m\u001b[0m\n\u001b[0;32m      3\u001b[0m \u001b[0mfilename2\u001b[0m \u001b[1;33m=\u001b[0m \u001b[1;34mr\"E:\\应用\\python\\jupyter\\新通讯录.xls\"\u001b[0m\u001b[1;33m\u001b[0m\u001b[0m\n\u001b[1;32m----> 4\u001b[1;33m \u001b[0mexcel1\u001b[0m \u001b[1;33m=\u001b[0m \u001b[0measyExcel\u001b[0m\u001b[1;33m(\u001b[0m\u001b[0mfilename1\u001b[0m\u001b[1;33m)\u001b[0m\u001b[1;33m\u001b[0m\u001b[0m\n\u001b[0m\u001b[0;32m      5\u001b[0m \u001b[1;33m\u001b[0m\u001b[0m\n\u001b[0;32m      6\u001b[0m \u001b[1;32mfor\u001b[0m \u001b[0mi\u001b[0m \u001b[1;32min\u001b[0m \u001b[0mrange\u001b[0m \u001b[1;33m(\u001b[0m\u001b[1;36m2\u001b[0m\u001b[1;33m,\u001b[0m\u001b[1;36m42\u001b[0m\u001b[1;33m)\u001b[0m\u001b[1;33m:\u001b[0m\u001b[1;33m\u001b[0m\u001b[0m\n",
      "\u001b[1;31mNameError\u001b[0m: name 'easyExcel' is not defined"
     ]
    }
   ],
   "source": [
    "#保护隐私,将通讯录中的号码去掉一位\n",
    "filename1 = r\"E:\\应用\\python\\jupyter\\通讯录.xls\"\n",
    "filename2 = r\"E:\\应用\\python\\jupyter\\新通讯录.xls\"\n",
    "excel1 = easyExcel(filename1)\n",
    "\n",
    "for i in range (2,42):\n",
    "    excel1.setCell(\"Sheet1\",i,4,str(excel1.getCell(\"Sheet1\",i,4))[:-3])\n",
    "    print(\"替换成功\")\n",
    "\n",
    "excel1.save(filename2)\n",
    "excel1.close()"
   ]
  },
  {
   "cell_type": "markdown",
   "metadata": {},
   "source": [
    "# 3.word操作\n",
    "\n",
    "使用方法与上面相同，也是通过创建word对象进行操作，具体函数及代码如下。"
   ]
  },
  {
   "cell_type": "code",
   "execution_count": null,
   "metadata": {},
   "outputs": [],
   "source": [
    "import os\n",
    "import win32com.client\n",
    "import time\n",
    "\n",
    "class RemoteWord:\n",
    "    def __init__(self, filename=None):\n",
    "        self.xlApp = win32com.client.DispatchEx('Word.Application')\n",
    "        self.xlApp.Visible = 0\n",
    "        self.xlApp.DisplayAlerts = 0  # 后台运行，不显示，不警告\n",
    "        if filename:\n",
    "            self.filename = filename\n",
    "            if os.path.exists(self.filename):\n",
    "                self.doc = self.xlApp.Documents.Open(filename)\n",
    "            else:\n",
    "                self.doc = self.xlApp.Documents.Add()  # 创建新的文档\n",
    "                self.doc.SaveAs(filename)\n",
    "        else:\n",
    "            self.doc = self.xlApp.Documents.Add()\n",
    "            self.filename = ''\n",
    "\n",
    "    def add_doc_end(self, string):\n",
    "        '''在文档末尾添加内容'''\n",
    "        rangee = self.doc.Range()\n",
    "        rangee.InsertAfter('\\n' + string)\n",
    "\n",
    "    def add_doc_start(self, string):\n",
    "        '''在文档开头添加内容'''\n",
    "        rangee = self.doc.Range(0, 0)\n",
    "        rangee.InsertBefore(string + '\\n')\n",
    "\n",
    "    def insert_doc(self, insertPos, string):\n",
    "        '''在文档insertPos位置添加内容'''\n",
    "        rangee = self.doc.Range(0, insertPos)\n",
    "        if (insertPos == 0):\n",
    "            rangee.InsertAfter(string)\n",
    "        else:\n",
    "            rangee.InsertAfter('\\n' + string)\n",
    "\n",
    "    def replace_doc(self, string, new_string):\n",
    "        '''替换文字'''\n",
    "        self.xlApp.Selection.Find.ClearFormatting()\n",
    "        self.xlApp.Selection.Find.Replacement.ClearFormatting()\n",
    "        self.xlApp.Selection.Find.Execute(string, False, False, False, False, False, True, 1, True, new_string, 2)\n",
    "\n",
    "    def save(self):\n",
    "        '''保存文档'''\n",
    "        self.doc.Save()\n",
    "\n",
    "    def save_as(self, filename):\n",
    "        '''文档另存为'''\n",
    "        self.doc.SaveAs(filename)\n",
    "\n",
    "    def close(self):\n",
    "        '''保存文件、关闭文件'''\n",
    "        self.save()\n",
    "        self.xlApp.Documents.Close()\n",
    "        self.xlApp.Quit()"
   ]
  },
  {
   "cell_type": "markdown",
   "metadata": {},
   "source": [
    "# 4.对文件夹内的所有word文档进行操作，将其中的小明替换为小张"
   ]
  },
  {
   "cell_type": "code",
   "execution_count": null,
   "metadata": {},
   "outputs": [],
   "source": [
    "#重复运行需要关闭word进程\n",
    "if __name__ == '__main__':\n",
    "    print(\"批量替换过程中可能会一分钟都没有成功替换，请耐心等待\")\n",
    "    path = \"C:/Users/13736/Desktop/实验报告重命名版/\" # 文件夹路径 必须是反斜杠/\n",
    "    files = []\n",
    "    for file in os.listdir(path):\n",
    "        if file.endswith(\".docx\"):  # 排除文件夹内的其它干扰文件，只获取word文件\n",
    "            files.append(path + file)\n",
    "    for i in files:\n",
    "        docx=i\n",
    "        doc = RemoteWord(docx)  # 初始化一个doc对象\n",
    "         #替换内容\n",
    "        doc.replace_doc('小明', '小张')  # 替换文本内容\n",
    "        doc.save()\n",
    "        doc.close()\n",
    "        print(i,\"完成替换\")"
   ]
  }
 ],
 "metadata": {
  "kernelspec": {
   "display_name": "Python 3",
   "language": "python",
   "name": "python3"
  },
  "language_info": {
   "codemirror_mode": {
    "name": "ipython",
    "version": 3
   },
   "file_extension": ".py",
   "mimetype": "text/x-python",
   "name": "python",
   "nbconvert_exporter": "python",
   "pygments_lexer": "ipython3",
   "version": "3.6.5"
  }
 },
 "nbformat": 4,
 "nbformat_minor": 2
}
