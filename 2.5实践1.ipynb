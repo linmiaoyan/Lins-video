{
 "cells": [
  {
   "cell_type": "markdown",
   "metadata": {},
   "source": [
    "## 深度学习大挑战\n",
    "\n",
    "案例说明：手写体识别，使用卷积神经网络（CNN）\n",
    "\n",
    "手写体识别，是人工智能中的经典难题。这个案例中，我们需要搭建神经网络，让计算机识别大量的手写体的图片，然后手写一张图片让计算机来识别。\n",
    "\n",
    "用计算机处理手写体文字在之前一直是个难题，因为每个人的书写风格、书写习惯都不同，很难通过传统算法对书写内容进行判断。而卷积神经网络(Convolutional Neural Networks，简称 CNN)在处理这类问题上有非常好的表现，通过准备好的大量手写体训练样本，可以让计算机“学会”认识手写文字。\n",
    "\n",
    "案例选择了keras框架，需要先安装keras和tensorflow。"
   ]
  },
  {
   "cell_type": "markdown",
   "metadata": {},
   "source": [
    "# 图象处理\n",
    "\n",
    "命名格式为种类+序号\n",
    "\n",
    "这里我们的种类1代表的是手写数字壹，之后进行训练时，种类数字代表的就是图片的标签。\n",
    "\n",
    "批量修改图片分辨率并重命名的代码(CV2版本)\n",
    "\n",
    "## 注意，路径或文件名中不能包含中文"
   ]
  },
  {
   "cell_type": "code",
   "execution_count": 4,
   "metadata": {},
   "outputs": [],
   "source": [
    "import os\n",
    "import cv2\n",
    "fileName = '1'\n",
    "path = 'photo1'\n",
    "s = os.listdir(path)\n",
    "count=1\n",
    "for i in s:\n",
    "    #如果是图片文件，则裁剪为100*100并重命名\n",
    "    if i.endswith('.jpg') or i.endswith('.png') or i.endswith('.jpeg'):\n",
    "        document = os.path.join(path,i)\n",
    "        img = cv2.imread(document)\n",
    "        img = cv2.resize(img,(100,100))\n",
    "        cv2.imwrite(path+os.sep+fileName+str(count)+'.jpg',img)\n",
    "        count=count+1"
   ]
  },
  {
   "cell_type": "markdown",
   "metadata": {},
   "source": [
    "## 数据处理"
   ]
  },
  {
   "cell_type": "code",
   "execution_count": null,
   "metadata": {},
   "outputs": [],
   "source": [
    "import numpy as np\n",
    "from keras import utils\n",
    "from PIL import Image\n",
    "\n",
    "ima_train = os.listdir('./train')\n",
    "ima_test = os.listdir('./test')\n",
    "# 图片其实就是一个矩阵（每一个像素都是0-255之间的数）（100*100*1）\n",
    "\n",
    "train_image = []\n",
    "test_image = []\n",
    "#将图片转化为灰度图矩阵后,放在列表里\n",
    "\n",
    "for i in ima_train:\n",
    "    img=Image.open('./train/' + i ).convert('L')\n",
    "    img = np.expand_dims(np.array(img),axis=-1)\n",
    "    train_image.append(img)\n",
    "\n",
    "for i in ima_test:\n",
    "    img=Image.open('./train/' + i ).convert('L')\n",
    "    img = np.expand_dims(np.array(img),axis=-1)\n",
    "    test_image.append(img)\n",
    "\n",
    "    \n",
    "train_image = np.array(train_image)\n",
    "test_image = np.array(test_image)\n",
    "# #提取首字符作为标签，储存到列表train_label中\n",
    "train_label = []\n",
    "test_lable = []\n",
    "for filename in ima_train:\n",
    "    train_label.append(int(filename[0]))\n",
    "for filename in ima_test:\n",
    "    test_lable.append(int(filename[0]))\n",
    "    \n",
    "# 标签（0/1/2/3）(840,)\n",
    "train_label = np.array(train_label)\n",
    "test_lable = np.array(test_lable)\n",
    "\n",
    "# 4.把标签转换为特殊矩阵\n",
    "train_label = utils.to_categorical(train_label)\n",
    "test_lable = utils.to_categorical(test_lable)\n",
    "\n",
    "train_image = train_image.astype('float32')\n",
    "test_image = test_image.astype('float32')\n",
    "\n",
    "train_image /= 255\n",
    "test_image /= 255\n",
    "\n",
    "print(train_image.shape)  # (数据量, 100, 100, 1)\n",
    "print(train_label.shape)  # (数据量, 4)\n"
   ]
  },
  {
   "cell_type": "markdown",
   "metadata": {},
   "source": [
    "## 搭建模型"
   ]
  },
  {
   "cell_type": "code",
   "execution_count": null,
   "metadata": {},
   "outputs": [],
   "source": [
    "#### import keras\n",
    "from keras import layers\n",
    "model=keras.models.Sequential()\n",
    "#第一层要设置输入图片的尺寸，即100*100像素、1个颜色通道\n",
    "model.add(layers.Conv2D(64,(3,3),activation='relu',input_shape=(100,100,1)))  \n",
    "model.add(layers.Conv2D(64,(3,3),activation='relu'))\n",
    "model.add(layers.MaxPool2D())\n",
    "model.add(layers.Conv2D(64,(3,3),activation='relu'))\n",
    "model.add(layers.Conv2D(64,(3,3),activation='relu'))\n",
    "model.add(layers.MaxPool2D())\n",
    "#在全连接之前，需要将二维图片数据转换成一维数组\n",
    "model.add(layers.Flatten()) \n",
    "#实现卷积\n",
    "model.add(layers.Dense(256,activation='relu'))\n",
    "#为了防止过拟合，Dropout层会随机的丢弃一部分神经网络连接\n",
    "model.add(layers.Dropout(0.5))  \n",
    "#使用softmax处理多分类问题\n",
    "model.add(layers.Dense(4,activation='softmax')) "
   ]
  },
  {
   "cell_type": "markdown",
   "metadata": {},
   "source": [
    "## 编译、训练模型"
   ]
  },
  {
   "cell_type": "code",
   "execution_count": null,
   "metadata": {},
   "outputs": [],
   "source": [
    "from keras.optimizers import SGD\n",
    "sgd = SGD(lr=0.01, decay=1e-6, momentum=0.9, nesterov=True)\n",
    "model.compile(loss='categorical_crossentropy', optimizer=sgd, metrics=['accuracy'])#\n",
    "# epochs一共进行的轮数，batch_size每次训练数据量\n",
    "model.fit(train_image, train_label, batch_size=10, epochs=32)"
   ]
  },
  {
   "cell_type": "code",
   "execution_count": null,
   "metadata": {},
   "outputs": [],
   "source": [
    "# 保存模型文件\n",
    "model.save('./nums.h5', overwrite=True)\n",
    "# 评估模型\n",
    "score = model.evaluate(test_image, test_lable, batch_size=10)\n",
    "print(score)"
   ]
  },
  {
   "cell_type": "markdown",
   "metadata": {},
   "source": [
    "## 进行预测获得结果（直接调用模型）"
   ]
  },
  {
   "cell_type": "code",
   "execution_count": null,
   "metadata": {},
   "outputs": [],
   "source": [
    "from PIL import Image\n",
    "import numpy as np\n",
    "from keras.models import load_model  \n",
    "# 1.上传图片\n",
    "img_path = ('test.jpg')\n",
    "# 2.预处理图片\n",
    "img = Image.open(img_path)\n",
    "img = img.resize((100, 100), Image.BILINEAR)\n",
    "img = img.convert('L')\n",
    "img = np.expand_dims(np.array(img),axis=-1)\n",
    "test_image = []\n",
    "test_image.append(img)\n",
    "test_image = np.array(test_image)\n",
    "test_image = (test_image.astype('float32'))/255\n",
    "# 3.加载模型\n",
    "model = load_model('nums.h5')\n",
    "# 4.预测类别，返回预测的序号\n",
    "classes = model.predict_classes(test_image)[0]\n",
    "target = ['壹', '贰','叁','肆','伍','陆','柒','捌','玖','拾']\n",
    "# 5.打印结果\n",
    "print(\"识别结果为:\" + target[classes])"
   ]
  },
  {
   "cell_type": "code",
   "execution_count": null,
   "metadata": {},
   "outputs": [],
   "source": []
  },
  {
   "cell_type": "code",
   "execution_count": null,
   "metadata": {},
   "outputs": [],
   "source": []
  },
  {
   "cell_type": "code",
   "execution_count": null,
   "metadata": {},
   "outputs": [],
   "source": []
  }
 ],
 "metadata": {
  "kernelspec": {
   "display_name": "Python 3",
   "language": "python",
   "name": "python3"
  },
  "language_info": {
   "codemirror_mode": {
    "name": "ipython",
    "version": 3
   },
   "file_extension": ".py",
   "mimetype": "text/x-python",
   "name": "python",
   "nbconvert_exporter": "python",
   "pygments_lexer": "ipython3",
   "version": "3.7.2"
  }
 },
 "nbformat": 4,
 "nbformat_minor": 4
}
