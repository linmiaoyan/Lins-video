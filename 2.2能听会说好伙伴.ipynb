{
 "cells": [
  {
   "cell_type": "markdown",
   "metadata": {},
   "source": [
    "# “能听会说”好伙伴"
   ]
  },
  {
   "cell_type": "markdown",
   "metadata": {},
   "source": [
    "硬件准备：麦克风、小音箱\n",
    "\n",
    "注意事项：\n",
    "- 文件夹目录中\"start.wav\"为录音提示语，\"audio.wav\"为录音时生成的文件。\n",
    "- 请逐步运行单元格中的代码，即可查看具体效果。\n",
    "- 如果使用USB小音箱，请务必在电源口接上2A的电源。\n",
    "- 请确认硬件处于上网状态，否则无法使用百度API相关功能。\n",
    "    \n",
    "本范例中百度AI部分内容请参考其官方文档。https://ai.baidu.com/docs#/ASR-Online-Python-SDK/f71dfc54"
   ]
  },
  {
   "cell_type": "markdown",
   "metadata": {},
   "source": [
    "### 准备工作1：导入基本库"
   ]
  },
  {
   "cell_type": "code",
   "execution_count": 2,
   "metadata": {},
   "outputs": [],
   "source": [
    "import pyaudio\n",
    "import wave\n",
    "import os\n",
    "import numpy as np\n",
    "import matplotlib.pyplot as plt\n",
    "from aip import AipSpeech\n"
   ]
  },
  {
   "cell_type": "markdown",
   "metadata": {},
   "source": [
    "### 准备工作2：设置认证信息和参数\n",
    "\n",
    "注：这里用的是测试账号，有访问次数的限制，如果测试失败，请使用自己的账号信息。"
   ]
  },
  {
   "cell_type": "code",
   "execution_count": 24,
   "metadata": {},
   "outputs": [],
   "source": [
    "\"\"\" 你的 APPID AK SK \"\"\"\n",
    "APP_ID = \"19612357\"\n",
    "API_KEY = \"om90mVUHZfck1sviVg1vuGVW\"\n",
    "SECRET_KEY = \"5qy7wvLCRRGGqk22roDkmjBNrfyEcTe1\"\n",
    "\"\"\" 这里是参数设置，请不要改动 \"\"\"\n",
    "wavdict = {'CHUNK':1024,'CHANNELS':1,'RATE':16000,'RECORD_SECONDS':3}\n",
    "client = AipSpeech(APP_ID, API_KEY, SECRET_KEY)"
   ]
  },
  {
   "cell_type": "markdown",
   "metadata": {},
   "source": [
    "录音参数介绍：\n",
    "- CHUNK：指定每个缓冲区的帧数。\n",
    "- FORMAT：采样大小和格式。我们这里是pyaudio.paInt16，即16位int型。\n",
    "- CHANNELS：声道数，这里我们设定的是单声道。\n",
    "- RATE：采样频率，录音设备在一秒钟内对声音信号的采样次数，采样频率越高声音的还原就越真实越自然。这里是16000。这里是为了匹配后期语音识别的要求设置的。常用的有8kHz, 16kHz, 32kHz, 48kHz, 11.025kHz, 22.05kHz, 44.1kHz.\n",
    "- RECORD_SECONDS:录音秒数"
   ]
  },
  {
   "cell_type": "markdown",
   "metadata": {},
   "source": [
    "### 体验:声音的秘密"
   ]
  },
  {
   "cell_type": "code",
   "execution_count": 7,
   "metadata": {},
   "outputs": [
    {
     "name": "stderr",
     "output_type": "stream",
     "text": [
      "e:\\application\\python\\lib\\site-packages\\ipykernel_launcher.py:7: DeprecationWarning: The binary mode of fromstring is deprecated, as it behaves surprisingly on unicode inputs. Use frombuffer instead\n",
      "  import sys\n"
     ]
    },
    {
     "data": {
      "image/png": "[encoded data removed]",
      "text/plain": [
       "<Figure size 432x288 with 1 Axes>"
      ]
     },
     "metadata": {
      "needs_background": "light"
     },
     "output_type": "display_data"
    }
   ],
   "source": [
    "def wavread(path):\n",
    "    wavfile =  wave.open(path,\"rb\")\n",
    "    params = wavfile.getparams()\n",
    "    framesra,frameswav= params[2],params[3]\n",
    "    datawav = wavfile.readframes(frameswav)\n",
    "    wavfile.close()\n",
    "    datause = np.fromstring(datawav,dtype = np.short)\n",
    "    datause.shape = -1,2\n",
    "    datause = datause.T\n",
    "    time = np.arange(0, frameswav) * (1.0/framesra)\n",
    "    return datause,time\n",
    "\n",
    "def main():\n",
    "    path = r'start.wav'\n",
    "    wavdata,wavtime = wavread(path)\n",
    "    plt.subplot(211)\n",
    "    plt.plot(wavtime, wavdata[1])\n",
    "    plt.show()\n",
    "    \n",
    "main()"
   ]
  },
  {
   "cell_type": "code",
   "execution_count": null,
   "metadata": {},
   "outputs": [],
   "source": []
  },
  {
   "cell_type": "markdown",
   "metadata": {},
   "source": [
    "### 核心函数getwav:录音\n",
    "\n",
    "rec函数的作用是录音处理。"
   ]
  },
  {
   "cell_type": "code",
   "execution_count": 3,
   "metadata": {},
   "outputs": [],
   "source": [
    "def getwav(filename,wavdict):\n",
    "    CHUNK = int(wavdict['CHUNK'])\n",
    "    FORMAT = pyaudio.paInt16\n",
    "    CHANNELS = int(wavdict['CHANNELS'])\n",
    "    RATE = int(wavdict['RATE'])\n",
    "    RECORD_SECONDS = int(wavdict['RECORD_SECONDS'])\n",
    "\n",
    "    p = pyaudio.PyAudio()\n",
    "    stream = p.open(format=FORMAT,\n",
    "                    channels=CHANNELS,\n",
    "                    rate=RATE,\n",
    "                    input=True,\n",
    "                    frames_per_buffer=CHUNK)\n",
    "    print(\"开始录音,请说话...\")\n",
    "    frames = []\n",
    "    for i in range(0, int(RATE / CHUNK * RECORD_SECONDS)):\n",
    "        data = stream.read(CHUNK)\n",
    "        frames.append(data)\n",
    "    print(\"录音结束!\")\n",
    "    stream.stop_stream()\n",
    "    stream.close()\n",
    "    p.terminate()\n",
    "    wf = wave.open(filename, 'wb')\n",
    "    wf.setnchannels(CHANNELS)\n",
    "    wf.setsampwidth(p.get_sample_size(FORMAT))\n",
    "    wf.setframerate(RATE)\n",
    "    wf.writeframes(b''.join(frames))\n",
    "    wf.close()\n",
    "    return filename\n",
    "#尝试运行\n",
    "#wavdict = {'CHUNK':1024,'CHANNELS':1,'RATE':16000,'RECORD_SECONDS':3}\n",
    "#getwav('test.wav',wavdict)"
   ]
  },
  {
   "cell_type": "markdown",
   "metadata": {},
   "source": [
    "### 核心过程语音转文字:基于百度API，将录音转化为文字\n"
   ]
  },
  {
   "cell_type": "code",
   "execution_count": 33,
   "metadata": {},
   "outputs": [
    {
     "name": "stdout",
     "output_type": "stream",
     "text": [
      "正在识别语音...\n",
      "\n"
     ]
    }
   ],
   "source": [
    "with open('audio.wav', 'rb') as f:\n",
    "    file_context = f.read()\n",
    "print(\"正在识别语音...\")\n",
    "res = client.asr(file_context, 'wav', 16000, {'dev_pid': 1537,})\n",
    "if (res[\"err_msg\"]==\"success.\"):\n",
    "    print(res.get(\"result\")[0])\n",
    "else:\n",
    "    print(\"错误，没有识别出任何内容！\")"
   ]
  },
  {
   "cell_type": "markdown",
   "metadata": {},
   "source": [
    "### 核心过程文字转语音:基于百度API，将文字合成为语音\n",
    "\n",
    "利用百度AI平台提供的接口，我们可以上传文本信息，得到返回的音频文件。运行这段代码后，返回的音频文件将存放在\"audio.wav\"中。"
   ]
  },
  {
   "cell_type": "code",
   "execution_count": 25,
   "metadata": {},
   "outputs": [],
   "source": [
    "from aip import AipSpeech\n",
    "client = AipSpeech(APP_ID, API_KEY, SECRET_KEY)\n",
    "txt=\"我是能听会说的机器人！\"\n",
    "result = client.synthesis(txt, 'zh', 1, {'vol': 5,})\n",
    "if not isinstance(result, dict):\n",
    "    with open('audio.wav', 'wb') as f:\n",
    "        f.write(result)\n",
    "#windows环境下直接播放语音\n",
    "#os.system('audio.wav')"
   ]
  },
  {
   "cell_type": "markdown",
   "metadata": {},
   "source": [
    "### pytts3库使用案例\n",
    "利用py将文字转为语音，并且朗读出来。"
   ]
  },
  {
   "cell_type": "code",
   "execution_count": 1,
   "metadata": {},
   "outputs": [],
   "source": [
    "import pyttsx3\n",
    "engine = pyttsx3.init()\n",
    "words='我是能听会说的机器人！'\n",
    "engine.say(words)\n",
    "engine.runAndWait()"
   ]
  },
  {
   "cell_type": "markdown",
   "metadata": {},
   "source": [
    "# 实践活动1：吟诗作对机器人\n",
    "\n",
    "实践内容：制作一个能够“吟诗作对”的机器人，它能够与我们进行对话，听到诗词的上半部分就会自动对出下半部分。这个机器人可以被用在语文课堂上，也可以用于日常生活之中，供我们练习古诗词。"
   ]
  },
  {
   "cell_type": "markdown",
   "metadata": {},
   "source": [
    "### 实践步骤1：定义词库"
   ]
  },
  {
   "cell_type": "code",
   "execution_count": 2,
   "metadata": {
    "scrolled": true
   },
   "outputs": [
    {
     "name": "stdout",
     "output_type": "stream",
     "text": [
      "['床前明月光', '疑是地上霜', '举头望明月', '低头思故乡', '大漠沙如雪', '燕山月似钩', '何当金络脑', '快走踏清秋', '海上生明月', '天涯共此时']\n"
     ]
    }
   ],
   "source": [
    "#添加诗词库，用户读前一句（奇数），机器对出下一句（偶数）\n",
    "shici = ['床前明月光', '疑是地上霜', '举头望明月','低头思故乡']\n",
    "shici.extend(['大漠沙如雪', '燕山月似钩', '何当金络脑','快走踏清秋'])\n",
    "#字符串相加，采用+的方式\n",
    "shici=shici + ['海上生明月', '天涯共此时']\n",
    "#输出列表\n",
    "print(shici)"
   ]
  },
  {
   "cell_type": "markdown",
   "metadata": {},
   "source": [
    "### 实践步骤2：核心逻辑"
   ]
  },
  {
   "cell_type": "code",
   "execution_count": null,
   "metadata": {},
   "outputs": [],
   "source": [
    "#播放提示语\n",
    "os.system('start.wav')\n",
    "#开始录音\n",
    "wavdict = {'CHUNK':1024,'CHANNELS':1,'RATE':16000,'RECORD_SECONDS':3}\n",
    "getwav('input.wav',wavdict)\n",
    "with open('input.wav', 'rb') as f:\n",
    "    file_context = f.read()\n",
    "print(\"正在识别语音...\")\n",
    "res = client.asr(file_context, 'wav', 16000, {'dev_pid': 1537,})\n",
    "if (res[\"err_msg\"]==\"success.\"):\n",
    "    ret=res.get(\"result\")[0])\n",
    "else:\n",
    "    ret=\"错误，没有识别出任何内容！\"\n",
    "print(ret)\n",
    "for i in range(len(shici)//2):  \n",
    "    if shici[i*2] in ret:\n",
    "        back=shici[i*2+1]\n",
    "        break\n",
    "    else:\n",
    "        back=\"在下才疏学浅，甘拜下风。\"\n",
    "print(back)  \n",
    "result = client.synthesis(back, 'zh', 1, {'vol': 5,})\n",
    "if not isinstance(result, dict):\n",
    "    with open('audio.wav', 'wb') as f:\n",
    "        f.write(result)\n",
    "os.system('audio.wav')"
   ]
  },
  {
   "cell_type": "markdown",
   "metadata": {},
   "source": [
    "### 实践步骤3：功能优化\n",
    "\n",
    "1.请给“诗词库”（变量shici）增加新的数据，使其可以支持更多的回答。\n",
    "\n",
    "2.修改变量shici的内容，让这个程序可以在其他的特定场合工作。\n"
   ]
  },
  {
   "cell_type": "markdown",
   "metadata": {},
   "source": [
    "### 结果呈现：\n",
    "\n",
    "完成作品后，尝试与这个机器人“吟诗作对”。\n",
    "通过遍历字符串的方式，我们可以从词库中找到对应的诗句，我们还可以调用人工智能生成古诗的接口，返回更加有趣新颖的诗句。在案例中，语音的输入输出都是信息的表现方式，我们通过修改其内部算法，完成了人机交互。"
   ]
  },
  {
   "cell_type": "markdown",
   "metadata": {},
   "source": [
    "# 实践活动2：语音唤醒小助手（选学）\n",
    "\n",
    "实践内容：在上一小节中，我们尝试制作了一个聊天机器人，现在，我们可以使用语音唤醒技术，将其制作地更加完善。当我们想要唤醒这个小助手时，就说出它的名字，随后与它进行对话。"
   ]
  },
  {
   "cell_type": "markdown",
   "metadata": {},
   "source": [
    "### 实践步骤1：唤醒机制\n",
    "\n",
    "参考上文中提到的两种唤醒机制，选择其中一种进行设计。\n"
   ]
  },
  {
   "cell_type": "code",
   "execution_count": 35,
   "metadata": {},
   "outputs": [],
   "source": [
    "#getwav函数录制音频\n",
    "#识别音频内容\n",
    "#创建一个代表姓名的列表，进行遍历\n",
    "#如果遍历结果为成功，则请用户提出问题，转入步骤2开始正常对话。"
   ]
  },
  {
   "cell_type": "markdown",
   "metadata": {},
   "source": [
    "### 实践步骤2：对话功能\n",
    "\n",
    "参考AIML机器人，将用户的输入语句，修改为本章节中学习到的语音识别，将机器人的输出语句，修改为语音合成。"
   ]
  },
  {
   "cell_type": "code",
   "execution_count": null,
   "metadata": {},
   "outputs": [],
   "source": []
  },
  {
   "cell_type": "markdown",
   "metadata": {},
   "source": [
    "### 实践步骤3：功能优化\n",
    "\n",
    "想要完成基本功能，我们可以让小助手录制唤醒后5秒内的录音，并作出应答。生活中的对话时长都是不固定的，我们还可以添加另一个线程，对用户的说话情况进行侦测，如果5秒后出现了长时间的沉默，才中止录音。\n"
   ]
  },
  {
   "cell_type": "markdown",
   "metadata": {},
   "source": [
    "### 结果呈现：\n",
    "\n"
   ]
  },
  {
   "cell_type": "markdown",
   "metadata": {},
   "source": [
    "完成作品后，与小助手模拟生活中常见的情境：“同学之间打招呼”“超市买东西”进行对话。对于我们学习到的知识，要做到活学活用，结合自己的知识储备，实现1(AIML对话)+1(语音输入与输出)>2(优质作品)的效果。"
   ]
  },
  {
   "cell_type": "code",
   "execution_count": null,
   "metadata": {},
   "outputs": [],
   "source": []
  }
 ],
 "metadata": {
  "kernelspec": {
   "display_name": "Python 3",
   "language": "python",
   "name": "python3"
  },
  "language_info": {
   "codemirror_mode": {
    "name": "ipython",
    "version": 3
   },
   "file_extension": ".py",
   "mimetype": "text/x-python",
   "name": "python",
   "nbconvert_exporter": "python",
   "pygments_lexer": "ipython3",
   "version": "3.6.5"
  }
 },
 "nbformat": 4,
 "nbformat_minor": 4
}
